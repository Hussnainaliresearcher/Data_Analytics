{
 "cells": [
  {
   "cell_type": "markdown",
   "metadata": {},
   "source": [
    "## Formula Bar:\n",
    "* The formula bar in Excel is a toolbar at the top of the worksheet where you can view, enter, or edit data or formulas in a cell."
   ]
  },
  {
   "cell_type": "markdown",
   "metadata": {},
   "source": [
    "## Align Center:\n",
    "* Align Center is a formatting option that horizontally centers text or values within a selected cell or group of cells."
   ]
  },
  {
   "cell_type": "markdown",
   "metadata": {},
   "source": [
    "## Bold:\n",
    "* The bold formatting style makes the text or numbers in a cell thicker and darker to emphasize them."
   ]
  },
  {
   "cell_type": "markdown",
   "metadata": {},
   "source": [
    "## Format Painter:\n",
    "* Format Painter is a tool used to copy the formatting of one cell (like font, size, color) and apply it to another cell or range."
   ]
  },
  {
   "cell_type": "markdown",
   "metadata": {},
   "source": [
    "## Different Formats of Dates:\n",
    "* Excel provides various date formats (e.g., MM/DD/YYYY, DD-MMM-YY) to represent and customize how dates are displayed in cells."
   ]
  },
  {
   "cell_type": "markdown",
   "metadata": {},
   "source": [
    "## =SUM:\n",
    "* The =SUM function in Excel calculates the total (sum) of a range of numbers or cells.\n",
    "\n",
    "## =AVG:\n",
    "* The =AVG function computes the average (arithmetic mean) of a range of numbers or cells.\n",
    "\n",
    "## =CONCATENATE:\n",
    "* The =CONCATENATE function combines text from two or more cells into one, useful for merging strings"
   ]
  },
  {
   "cell_type": "markdown",
   "metadata": {},
   "source": [
    "### Below is the table, where i practise all the above concepts and formulas.\n",
    "-- Table: `practise_table`\n",
    "\n",
    "![](Formating.jpg \"\")"
   ]
  },
  {
   "cell_type": "markdown",
   "metadata": {},
   "source": []
  }
 ],
 "metadata": {
  "language_info": {
   "name": "python"
  }
 },
 "nbformat": 4,
 "nbformat_minor": 2
}
