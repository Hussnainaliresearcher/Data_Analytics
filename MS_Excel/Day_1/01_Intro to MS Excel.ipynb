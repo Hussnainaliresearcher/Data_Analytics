{
 "cells": [
  {
   "cell_type": "markdown",
   "metadata": {},
   "source": [
    "# Introduction to Microsoft Excel\n",
    "Microsoft Excel is a powerful spreadsheet program that allows you to store, organize, and analyze data. It is widely used in various industries, including business, finance, and education."
   ]
  },
  {
   "cell_type": "markdown",
   "metadata": {},
   "source": [
    "### Key features\n",
    "  \n",
    "* **Data Analysis**: Perform complex calculations and data analysis using built-in functions and formulas.\n",
    "* **Charts and Graphs**: Create a variety of charts and graphs to visually represent data.\n",
    "* **Pivot Tables**: Summarize and analyze large datasets with pivot tables.\n",
    "* **Conditional Formatting**: Highlight important data points with conditional formatting.\n",
    "* **Data Validation**: Ensure data accuracy with data validation rules.\n",
    "* **Macros**: Automate repetitive tasks with macros.\n",
    "* **Collaboration**: Share and collaborate on workbooks with others in real-time."
   ]
  },
  {
   "cell_type": "markdown",
   "metadata": {},
   "source": [
    "### Why Use Excel?\n",
    "\n",
    "  This document highlights the reasons for using Excel as a tool for managing and analyzing data.\n",
    "  Excel offers powerful features that make it an essential tool for data analysis, including:\n",
    " * - Data organization: Excel allows you to organize data in a structured manner using rows and columns.\n",
    " * - Data analysis: Excel provides various functions and formulas to perform complex calculations and data analysis.\n",
    " * - Data visualization: Excel includes charting tools to create visual representations of data.\n",
    " * - Data manipulation: Excel offers tools like sorting, filtering, and pivot tables to manipulate and summarize data.\n",
    " * - Accessibility: Excel files can be easily shared and accessed across different platforms.\n",
    "  \n",
    " Excel serves as the foundation for developing data analysis skills, making it a go-to tool for beginners and professionals alike.\n"
   ]
  },
  {
   "cell_type": "markdown",
   "metadata": {},
   "source": []
  },
  {
   "cell_type": "markdown",
   "metadata": {},
   "source": [
    "### Today we will practice and learn the following Fundamentals of MS Excel:\n",
    "1. Excel Home \n",
    "2. Tool Bar Menu\n",
    "3. Tool Bar Ribbons\n",
    "4. Tool Bar group\n",
    "5. Tool Bar More Options\n",
    "6. Cell and Address\n",
    "7. Sheet Tracker\n",
    "8. Sheet Size"
   ]
  },
  {
   "cell_type": "markdown",
   "metadata": {},
   "source": [
    "## Excel Home\n",
    "* When you open Excel, you will see the Excel Home tab.\n",
    "![](./Excel_Home.jpg \"\")"
   ]
  },
  {
   "cell_type": "markdown",
   "metadata": {},
   "source": [
    "## Tool Bar Menu \n",
    "The Tool Bar menu is located at the top of the screen and contains the following options:\n",
    "\n",
    "![](./Tool_Bar_Menu.jpg \"\")"
   ]
  },
  {
   "cell_type": "markdown",
   "metadata": {},
   "source": [
    "## Tool Bar Ribbon\n",
    "The Tool Bar Ribbon is a customizable toolbar that provides quick access to frequently used tools and features.\n",
    "![](./Tool_Bar_Ribbon.jpg \"\")"
   ]
  },
  {
   "cell_type": "markdown",
   "metadata": {},
   "source": [
    "## Tool_Bar_Group\n",
    "![](./Tool_Bar_Groups.jpg \"\")"
   ]
  },
  {
   "cell_type": "markdown",
   "metadata": {},
   "source": [
    "## Tool Bar More Options\n",
    "* When you press the below Icons, the following options will be displayed. You can select the options you want to use. The options are:\n",
    "  \n",
    "![](./Tool_Bar_More_Options.jpg \"\")"
   ]
  },
  {
   "cell_type": "markdown",
   "metadata": {},
   "source": [
    "## Cell And Address.\n",
    "The cell is the basic unit of memory in a computer. It is a small amount of memory that can hold a single piece of data. The address of a cell is the location in memory where the cell is stored. The red circle in the daigram below represents a Address of green rectangular cell.\n",
    "\n",
    "![](./Cell_And_Addres.jpg \"\")"
   ]
  },
  {
   "cell_type": "markdown",
   "metadata": {},
   "source": [
    "## Sheet Tracker\n",
    "\n",
    "It's a simple tool to track the sheets in a workbook. It will display the number of sheets in the workbook and the number of sheets that are hidden.\n",
    "\n",
    "![](./Sheet_Tracker.jpg \"\")"
   ]
  },
  {
   "cell_type": "markdown",
   "metadata": {},
   "source": [
    "## Sheet Size\n",
    "The sheet size is the size of the paper or material that is being printed on. This can be a fixed size, such as A4 or letter, or it can be a variable size, such as a custom size for a specific project.\n",
    "\n",
    "![](./Sheet_Size.jpg \"\")"
   ]
  },
  {
   "cell_type": "markdown",
   "metadata": {},
   "source": [
    "It is all in my first day in practising MS Excel. Next we will explore more."
   ]
  },
  {
   "cell_type": "markdown",
   "metadata": {},
   "source": []
  }
 ],
 "metadata": {
  "kernelspec": {
   "display_name": "data_analysis",
   "language": "python",
   "name": "python3"
  },
  "language_info": {
   "name": "python",
   "version": "3.10.0"
  }
 },
 "nbformat": 4,
 "nbformat_minor": 2
}
