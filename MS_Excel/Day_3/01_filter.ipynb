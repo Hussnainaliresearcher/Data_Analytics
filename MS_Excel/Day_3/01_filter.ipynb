{
 "cells": [
  {
   "cell_type": "markdown",
   "metadata": {},
   "source": [
    "## Practising MS Excel Day_3"
   ]
  },
  {
   "cell_type": "markdown",
   "metadata": {},
   "source": [
    "### Filters in MS Excel\n",
    "Filters allow you to view specific rows in a dataset while hiding others. They help to focus on relevant information by setting conditions on columns. For example, you can filter for all rows where the \"Total Salary\" is heighest.\n",
    "\n",
    "**How to Apply Filters**:\n",
    "\n",
    "Select the header row of your dataset.\n",
    "Go to the Data tab and click on Filter.\n",
    "A dropdown arrow will appear on each column header. Use it to set your filter conditions.\n",
    "\n",
    "* **Shortcut Key**:\n",
    "\n",
    "Ctrl + Shift + L: Toggles filters on or off.\n",
    "\n",
    "### Sorting\n",
    "\n",
    "Sorting rearranges data in a specific order. For example, you can sort names alphabetically (A to Z) or numbers in ascending or descending order.\n",
    "\n",
    "**How to Apply Sorting**:\n",
    "\n",
    "Select a column or range.\n",
    "Go to the Data tab and click on Sort A to Z (ascending) or Sort Z to A (descending).\n",
    "\n",
    "### Conditional Formatting and Color Scaling\n",
    "\n",
    "Conditional Formatting: Highlights cells based on specific conditions. For example, you can highlight all cells with values greater than 50 in green.\n",
    "Navigate to the Home tab → Conditional Formatting.\n",
    "Choose rules such as \"Highlight Cells Rules\" or \"Top/Bottom Rules.\"\n",
    "Color Scaling: A type of conditional formatting that applies gradients of colors based on cell values. For instance, low values may appear red, and high values green, with a gradient in between.\n",
    "\n",
    "**Shortcut Key**:\n",
    "\n",
    "Alt + H + L: Opens the Conditional Formatting menu.\n",
    "### Find Duplicates and Remove\n",
    "\n",
    "This feature helps you identify and delete duplicate rows or entries from your data.\n",
    "**Steps**:\n",
    "\n",
    "Select your data range.\n",
    "Go to the Data tab → Remove Duplicates.\n",
    "Choose columns to check for duplicates and click OK.\n",
    "**Shortcut Key**:\n",
    "\n",
    "Alt + A + M: Opens the Remove Duplicates dialog box.\n",
    "### Wrap Text\n",
    "Wrap Text ensures that long text fits within a cell by breaking it into multiple lines within the same cell. This makes the content readable without resizing columns.\n",
    "**Steps**:\n",
    "\n",
    "Select the cells, go to the Home tab, and click on Wrap Text.\n",
    "**Shortcut Key**:\n",
    "\n",
    "Alt + H + W: Toggles Wrap Text on or off."
   ]
  },
  {
   "cell_type": "markdown",
   "metadata": {},
   "source": [
    "### Here is the screen short of the image that I practiced the above functions.\n",
    "\n",
    "\n",
    "![](Filter.jpg \"\")"
   ]
  },
  {
   "cell_type": "markdown",
   "metadata": {},
   "source": []
  }
 ],
 "metadata": {
  "language_info": {
   "name": "python"
  }
 },
 "nbformat": 4,
 "nbformat_minor": 2
}
