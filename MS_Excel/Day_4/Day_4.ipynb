{
 "cells": [
  {
   "cell_type": "markdown",
   "metadata": {},
   "source": [
    "## Today we learn some new concept in MS Excel."
   ]
  },
  {
   "cell_type": "markdown",
   "metadata": {},
   "source": [
    "\n",
    "\n",
    "##  **Round Number**\n",
    "\n",
    "The ROUND function in Excel is used to round a number to a specific number of digits. This is helpful for simplifying numbers or dealing with precision in data analysis.\n",
    "\n",
    "### Formula:\n",
    "```excel\n",
    "=ROUND(number, num_digits)\n",
    "\n",
    "number: The number you want to round.\n",
    "num_digits: The number of digits you want the result to have. If you set it to 0, the function rounds to the nearest whole number.\n",
    "\n",
    "=ROUND(3.14159, 2)   // Result: 3.14\n",
    "2. Round Up\n",
    "\n",
    "The ROUNDUP function rounds a number up towards zero or away from zero, regardless of its decimal part.\n",
    "=ROUNDUP(number, num_digits)\n",
    "number: The number you want to round up.\n",
    "num_digits: The number of digits you want after the decimal.\n",
    "=ROUNDUP(3.14159, 2)  // Result: 3.15\n",
    "3. Round Down\n",
    "\n",
    "The ROUNDDOWN function rounds a number down towards zero or away from zero, regardless of its decimal part.\n",
    "\n",
    "=ROUNDDOWN(number, num_digits)\n",
    "\n",
    "number: The number you want to round down.\n",
    "num_digits: The number of digits you want after the decimal.\n",
    "=ROUNDDOWN(3.14159, 2)  // Result: 3.14\n",
    "\n",
    "=ROUNDDOWN(3.14159, 2)  // Result: 3.14\n",
    "\n",
    " \n",
    "\n"
   ]
  },
  {
   "cell_type": "markdown",
   "metadata": {},
   "source": [
    "### AutoFill\n",
    "\n",
    "AutoFill is a feature in Excel that allows you to automatically fill cells with data following a pattern. For example, if you enter a number and drag the fill handle, Excel will continue the series.\n",
    "\n",
    "**How to use AutoFill:**\n",
    "Select the cell with the data you want to autofill.\n",
    "Hover over the bottom-right corner of the cell (the small square) until it becomes a black cross.\n",
    "Drag this fill handle to fill cells with data in a series or pattern.\n",
    "Example:\n",
    "If you type 1 in one cell and drag it down, Excel will automatically continue the series (2, 3, 4, etc.)."
   ]
  },
  {
   "cell_type": "markdown",
   "metadata": {},
   "source": [
    "### Add or Edit Comments\n",
    "Comments allow you to add notes or explanations to specific cells. This is useful for data analysis, as it helps provide context or insights for future reference.\n",
    "\n",
    "**Add a comment:**\n",
    "Right-click on a cell.\n",
    "Click on Insert Comment (or New Note in newer versions).\n",
    "Type your comment.\n",
    "Edit a comment:\n",
    "Right-click the cell with the comment.\n",
    "Click Edit Comment and make the necessary changes.\n",
    "**Shortcut Keys:**\n",
    "Insert Comment: Shift + F2\n",
    "Show/Hide Comments: Shift + F10, then use arrow keys to select Show Comment."
   ]
  },
  {
   "cell_type": "markdown",
   "metadata": {},
   "source": [
    "### Here is the screen shot of what i practice today\n",
    "\n",
    "![](Round.jpg \"\")"
   ]
  },
  {
   "cell_type": "markdown",
   "metadata": {},
   "source": []
  }
 ],
 "metadata": {
  "language_info": {
   "name": "python"
  }
 },
 "nbformat": 4,
 "nbformat_minor": 2
}
